{
 "cells": [
  {
   "cell_type": "markdown",
   "metadata": {
    "pycharm": {
     "name": "#%% md\n"
    }
   },
   "source": [
    "#  Jupyter Notebook Examples "
   ]
  },
  {
   "cell_type": "markdown",
   "metadata": {
    "pycharm": {
     "name": "#%% md\n"
    }
   },
   "source": [
    "### Install igv-notebook"
   ]
  },
  {
   "cell_type": "code",
   "execution_count": null,
   "metadata": {
    "pycharm": {
     "name": "#%%\n"
    }
   },
   "outputs": [],
   "source": [
    "!pip install igv-notebook"
   ]
  },
  {
   "cell_type": "markdown",
   "metadata": {
    "pycharm": {
     "name": "#%% md\n"
    }
   },
   "source": [
    "### Define reference using absolute URLs  (all platforms)\n"
   ]
  },
  {
   "cell_type": "code",
   "execution_count": null,
   "metadata": {
    "pycharm": {
     "name": "#%%\n"
    }
   },
   "outputs": [],
   "source": [
    "import igv_notebook\n",
    "\n",
    "igv_notebook.init()\n",
    "\n",
    "b = igv_notebook.Browser(\n",
    "    {\n",
    "        \"reference\": {\n",
    "            \"id\": \"hg19_custom\",\n",
    "            \"name\": \"Human (GRCh37/hg19)\",\n",
    "            \"fastaURL\": \"https://s3.amazonaws.com/igv.broadinstitute.org/genomes/seq/hg19/hg19.fasta\",\n",
    "            \"indexURL\": \"https://s3.amazonaws.com/igv.broadinstitute.org/genomes/seq/hg19/hg19.fasta.fai\",\n",
    "        },\n",
    "        \"locus\": \"chr22:24,376,277-24,376,350\"\n",
    "    })\n",
    "\n"
   ]
  },
  {
   "cell_type": "markdown",
   "metadata": {
    "pycharm": {
     "name": "#%% md\n"
    }
   },
   "source": [
    "### Define reference using _**server**_ relative URLs  (Jupyter Notebook and Lab)\n",
    "\n",
    "* Assumption:  Server is started from repository root\n"
   ]
  },
  {
   "cell_type": "code",
   "execution_count": null,
   "metadata": {
    "pycharm": {
     "name": "#%%\n"
    }
   },
   "outputs": [],
   "source": [
    "import igv_notebook\n",
    "\n",
    "igv_notebook.init()\n",
    "\n",
    "b = igv_notebook.Browser(\n",
    "    {\n",
    "        \"reference\": {\n",
    "            \"id\": \"NC_045523v3\",\n",
    "            \"name\": \"SARS-COV-2\",\n",
    "            \"fastaURL\": \"/examples/data/NC_045512v2.fa\",\n",
    "            \"indexURL\": \"/examples/data/NC_045512v2.fa.fai\",\n",
    "        },\n",
    "        \"locus\": \"NC_045512v2:6,684-6,722\"\n",
    "    })\n"
   ]
  },
  {
   "cell_type": "markdown",
   "metadata": {
    "pycharm": {
     "name": "#%% md\n"
    }
   },
   "source": [
    "### Define reference using _**notebook**_ relative URLs  (Jupyter Notebook Only)\n",
    "\n",
    "* Tracks are loaded after browser creation with ```load_track``` function\n",
    "* Tracks loaded with URL paths.  Paths are relatie to the Jupyter file tree.\n",
    "\n",
    "_**Note: specifying file urls relative to the notebook is not supported for JupyterLab.**_"
   ]
  },
  {
   "cell_type": "code",
   "execution_count": null,
   "metadata": {
    "pycharm": {
     "name": "#%%\n"
    }
   },
   "outputs": [],
   "source": [
    "import igv_notebook\n",
    "\n",
    "igv_notebook.init()\n",
    "\n",
    "b = igv_notebook.Browser(\n",
    "    {\n",
    "        \"reference\": {\n",
    "            \"id\": \"NC_045523v3\",\n",
    "            \"name\": \"SARS-COV-2\",\n",
    "            \"fastaURL\": \"data/NC_045512v2.fa\",\n",
    "            \"indexURL\": \"data/NC_045512v2.fa.fai\",\n",
    "        },\n",
    "        \"locus\": \"NC_045512v2:6,684-6,722\"\n",
    "    })\n"
   ]
  },
  {
   "cell_type": "markdown",
   "metadata": {
    "pycharm": {
     "name": "#%% md\n"
    }
   },
   "source": [
    "### Define reference using file paths  (Jupyter Notebook and Colab Only)\n",
    "\n",
    "* _**path**_ properties (e.g. _fastaPath_ and _indexPath_ can be used to access files anywhere on the local filesystem.  This example specifies\n",
    "relative file paths (relative to the notebook) for portability of this demo, however the use of _**path**_\n",
    "properties is not recommended if files are in the Jupyter file space, _**url**_ properties will in general\n",
    "yield better performance.\n",
    "\n",
    "_**Note: \"path\" properties for local files are not supported for JupyterLab.**_"
   ]
  },
  {
   "cell_type": "code",
   "execution_count": null,
   "metadata": {
    "pycharm": {
     "name": "#%%\n",
     "is_executing": true
    }
   },
   "outputs": [],
   "source": [
    "import igv_notebook\n",
    "\n",
    "igv_notebook.init()\n",
    "\n",
    "b = igv_notebook.Browser(\n",
    "    {\n",
    "        \"reference\": {\n",
    "            \"id\": \"NC_045523v3\",\n",
    "            \"name\": \"SARS-COV-2\",\n",
    "            \"fastaPath\": \"data/NC_045512v2.fa\",\n",
    "            \"indexPath\": \"data/NC_045512v2.fa.fai\"\n",
    "        },\n",
    "        \"locus\": \"NC_045512v2:6,684-6,722\"\n",
    "    })\n"
   ]
  },
  {
   "cell_type": "code",
   "execution_count": null,
   "metadata": {
    "pycharm": {
     "name": "#%%\n"
    }
   },
   "outputs": [],
   "source": []
  }
 ],
 "metadata": {
  "kernelspec": {
   "display_name": "Python 3 (ipykernel)",
   "language": "python",
   "name": "python3"
  },
  "language_info": {
   "codemirror_mode": {
    "name": "ipython",
    "version": 3
   },
   "file_extension": ".py",
   "mimetype": "text/x-python",
   "name": "python",
   "nbconvert_exporter": "python",
   "pygments_lexer": "ipython3",
   "version": "3.9.1"
  }
 },
 "nbformat": 4,
 "nbformat_minor": 4
}